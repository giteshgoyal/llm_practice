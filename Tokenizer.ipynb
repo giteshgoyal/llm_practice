{
  "nbformat": 4,
  "nbformat_minor": 0,
  "metadata": {
    "colab": {
      "provenance": [],
      "authorship_tag": "ABX9TyMXGsUuHN1zc7Dvt4+ONr4o",
      "include_colab_link": true
    },
    "kernelspec": {
      "name": "python3",
      "display_name": "Python 3"
    },
    "language_info": {
      "name": "python"
    }
  },
  "cells": [
    {
      "cell_type": "markdown",
      "metadata": {
        "id": "view-in-github",
        "colab_type": "text"
      },
      "source": [
        "<a href=\"https://colab.research.google.com/github/giteshgoyal/llm_practice/blob/main/Tokenizer.ipynb\" target=\"_parent\"><img src=\"https://colab.research.google.com/assets/colab-badge.svg\" alt=\"Open In Colab\"/></a>"
      ]
    },
    {
      "cell_type": "markdown",
      "source": [
        "# Creating Vocablury\n",
        "\n",
        "1. Load the text\n",
        "2. Split the text using whitespace, punctations as delimiter\n",
        "3. Remove whitespace from token list (this is optional as we may need whitepace as token)\n",
        "4. Sort and assign value to token list."
      ],
      "metadata": {
        "id": "nktWoT6q1mLu"
      }
    },
    {
      "cell_type": "markdown",
      "source": [
        "# Load the Text"
      ],
      "metadata": {
        "id": "wBomBbkb2YQE"
      }
    },
    {
      "cell_type": "markdown",
      "source": [
        "## Load text using url"
      ],
      "metadata": {
        "id": "9TycQdPz7jkU"
      }
    },
    {
      "cell_type": "code",
      "source": [
        "import requests\n",
        "\n",
        "response = requests.get(\"https://raw.githubusercontent.com/giteshgoyal/llm_practice/refs/heads/main/verdict.txt\")\n",
        "raw_text = response.text\n",
        "\n",
        "print(\"Total number of character:\", len(raw_text))\n",
        "print(raw_text[:99])"
      ],
      "metadata": {
        "colab": {
          "base_uri": "https://localhost:8080/"
        },
        "id": "PxIYxJNr2cEo",
        "outputId": "b65c7eb6-0a16-4dbc-fea3-58f43366f518"
      },
      "execution_count": 39,
      "outputs": [
        {
          "output_type": "stream",
          "name": "stdout",
          "text": [
            "Total number of character: 20480\n",
            "I HAD always thought Jack Gisburn rather a cheap genius--though a good fellow enough--so it was no \n"
          ]
        }
      ]
    },
    {
      "cell_type": "markdown",
      "source": [
        "## Load using cloning the git repo"
      ],
      "metadata": {
        "id": "ymFi3ahb7-RW"
      }
    },
    {
      "cell_type": "code",
      "source": [
        "!git clone https://github.com/giteshgoyal/llm_practice.git"
      ],
      "metadata": {
        "colab": {
          "base_uri": "https://localhost:8080/"
        },
        "id": "7dZuDrTr-gzo",
        "outputId": "deb9ce19-e50f-40a4-f0c4-d27972b785d7"
      },
      "execution_count": 40,
      "outputs": [
        {
          "output_type": "stream",
          "name": "stdout",
          "text": [
            "fatal: destination path 'llm_practice' already exists and is not an empty directory.\n"
          ]
        }
      ]
    },
    {
      "cell_type": "code",
      "source": [
        "!ls\n",
        "with open(\"llm_practice/verdict.txt\", \"r\", encoding=\"utf-8\") as f:\n",
        "  raw_text=f.read()\n",
        "\n",
        "print(\"Total number of character: \", len(raw_text))\n",
        "print(raw_text[:99])"
      ],
      "metadata": {
        "colab": {
          "base_uri": "https://localhost:8080/"
        },
        "id": "pSQDf8MS-urz",
        "outputId": "b88e2884-6acb-4bc6-ff36-afead0d53203"
      },
      "execution_count": 41,
      "outputs": [
        {
          "output_type": "stream",
          "name": "stdout",
          "text": [
            "llm_practice  sample_data\n",
            "Total number of character:  20480\n",
            "I HAD always thought Jack Gisburn rather a cheap genius--though a good fellow enough--so it was no \n"
          ]
        }
      ]
    },
    {
      "cell_type": "markdown",
      "source": [
        "## Split the text using whitespace, punctations as delimiter"
      ],
      "metadata": {
        "id": "K0dXlpJWBg2S"
      }
    },
    {
      "cell_type": "code",
      "source": [
        "import re\n",
        "\n",
        "splited_data=re.split(r'([,.:;?_!\"()\\']|\\s)',raw_text)\n",
        "print(splited_data[:99])\n",
        "print(len(splited_data))"
      ],
      "metadata": {
        "colab": {
          "base_uri": "https://localhost:8080/"
        },
        "id": "dZmBr-uoAQGc",
        "outputId": "ffed2cb1-dbc8-42e4-dd3b-e612d381a813"
      },
      "execution_count": 42,
      "outputs": [
        {
          "output_type": "stream",
          "name": "stdout",
          "text": [
            "['I', ' ', 'HAD', ' ', 'always', ' ', 'thought', ' ', 'Jack', ' ', 'Gisburn', ' ', 'rather', ' ', 'a', ' ', 'cheap', ' ', 'genius--though', ' ', 'a', ' ', 'good', ' ', 'fellow', ' ', 'enough--so', ' ', 'it', ' ', 'was', ' ', 'no', ' ', 'great', ' ', 'surprise', ' ', 'to', ' ', 'me', ' ', 'to', ' ', 'hear', ' ', 'that', ',', '', ' ', 'in', ' ', 'the', ' ', 'height', ' ', 'of', ' ', 'his', ' ', 'glory', ',', '', ' ', 'he', ' ', 'had', ' ', 'dropped', ' ', 'his', ' ', 'painting', ',', '', ' ', 'married', ' ', 'a', ' ', 'rich', ' ', 'widow', ',', '', ' ', 'and', ' ', 'established', ' ', 'himself', ' ', 'in', ' ', 'a', ' ', 'villa', ' ', 'on']\n",
            "9043\n"
          ]
        }
      ]
    },
    {
      "cell_type": "markdown",
      "source": [
        "## Remove whitespace from token list"
      ],
      "metadata": {
        "id": "Xg2ReRr3BZCF"
      }
    },
    {
      "cell_type": "code",
      "source": [
        "cleaned_data= [data.strip() for data in splited_data if data.split()]\n",
        "print(cleaned_data[:99])\n",
        "print(len(cleaned_data))"
      ],
      "metadata": {
        "colab": {
          "base_uri": "https://localhost:8080/"
        },
        "id": "5f9SSTQwBX_9",
        "outputId": "7cefe941-fdf6-49c0-97a8-3f07d4b614ca"
      },
      "execution_count": 43,
      "outputs": [
        {
          "output_type": "stream",
          "name": "stdout",
          "text": [
            "['I', 'HAD', 'always', 'thought', 'Jack', 'Gisburn', 'rather', 'a', 'cheap', 'genius--though', 'a', 'good', 'fellow', 'enough--so', 'it', 'was', 'no', 'great', 'surprise', 'to', 'me', 'to', 'hear', 'that', ',', 'in', 'the', 'height', 'of', 'his', 'glory', ',', 'he', 'had', 'dropped', 'his', 'painting', ',', 'married', 'a', 'rich', 'widow', ',', 'and', 'established', 'himself', 'in', 'a', 'villa', 'on', 'the', 'Riviera', '.', '(', 'Though', 'I', 'rather', 'thought', 'it', 'would', 'have', 'been', 'Rome', 'or', 'Florence', '.', ')', '\"', 'The', 'height', 'of', 'his', 'glory', '\"', '--that', 'was', 'what', 'the', 'women', 'called', 'it', '.', 'I', 'can', 'hear', 'Mrs', '.', 'Gideon', 'Thwing--his', 'last', 'Chicago', 'sitter--deploring', 'his', 'unaccountable', 'abdication', '.', '\"', 'Of', 'course']\n",
            "4506\n"
          ]
        }
      ]
    },
    {
      "cell_type": "markdown",
      "source": [
        "## Sort and assign value to token list.\n"
      ],
      "metadata": {
        "id": "pasmNTpFB4Kw"
      }
    },
    {
      "cell_type": "code",
      "source": [
        "sorted_data= sorted(set(cleaned_data))\n",
        "print(len(sorted_data))"
      ],
      "metadata": {
        "colab": {
          "base_uri": "https://localhost:8080/"
        },
        "id": "9erlNLj4B_Rs",
        "outputId": "d9bc2846-745b-460e-922f-536f747a42c6"
      },
      "execution_count": 44,
      "outputs": [
        {
          "output_type": "stream",
          "name": "stdout",
          "text": [
            "1200\n"
          ]
        }
      ]
    },
    {
      "cell_type": "code",
      "source": [
        "vocab= {data:id for id,data in enumerate(sorted_data)}\n",
        "for w,i in vocab.items():\n",
        "  print(w,\":\",i)\n",
        "  if i >30:\n",
        "    break"
      ],
      "metadata": {
        "colab": {
          "base_uri": "https://localhost:8080/"
        },
        "id": "mUEO7h0UCeek",
        "outputId": "d49ce62a-9c98-4002-c7fd-4d9d1f824172"
      },
      "execution_count": 45,
      "outputs": [
        {
          "output_type": "stream",
          "name": "stdout",
          "text": [
            "! : 0\n",
            "\" : 1\n",
            "' : 2\n",
            "( : 3\n",
            ") : 4\n",
            ", : 5\n",
            "--and : 6\n",
            "--even : 7\n",
            "--it : 8\n",
            "--oh : 9\n",
            "--she : 10\n",
            "--that : 11\n",
            ". : 12\n",
            ": : 13\n",
            "; : 14\n",
            "? : 15\n",
            "A : 16\n",
            "Ah : 17\n",
            "Ah--I : 18\n",
            "Among : 19\n",
            "And : 20\n",
            "Are : 21\n",
            "Arrt : 22\n",
            "As : 23\n",
            "At : 24\n",
            "Be : 25\n",
            "Begin : 26\n",
            "Burlington : 27\n",
            "But : 28\n",
            "By : 29\n",
            "Carlo : 30\n",
            "Chicago : 31\n"
          ]
        }
      ]
    },
    {
      "cell_type": "markdown",
      "source": [
        "# Word Based Tokenizer"
      ],
      "metadata": {
        "id": "_RBGNtmkDwnz"
      }
    },
    {
      "cell_type": "code",
      "source": [
        "print(\"lets start\")"
      ],
      "metadata": {
        "colab": {
          "base_uri": "https://localhost:8080/"
        },
        "id": "IDYDJdZDDvrJ",
        "outputId": "006eb839-db38-4177-fe90-ccbda2364f06"
      },
      "execution_count": 46,
      "outputs": [
        {
          "output_type": "stream",
          "name": "stdout",
          "text": [
            "lets start\n"
          ]
        }
      ]
    }
  ]
}